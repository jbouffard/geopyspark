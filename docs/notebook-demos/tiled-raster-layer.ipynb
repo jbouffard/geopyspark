{
 "cells": [
  {
   "cell_type": "markdown",
   "metadata": {},
   "source": [
    "# Working With TiledRasterLayers\n",
    "\n",
    "TiledRasterRDD will be the class that will see the most use. It provides all the methods needed to perform a computations and analysis on the data. When reading and saving layers, this class will be used.\n",
    "\n",
    "This following guide will go over the creation methods and abilities unique to TiledRasterLayer. For RasterLayer, please see this [guide] and for a more general overview of layers, look [here]."
   ]
  },
  {
   "cell_type": "markdown",
   "metadata": {},
   "source": [
    "## Setting up the Environment for This Guide"
   ]
  },
  {
   "cell_type": "code",
   "execution_count": null,
   "metadata": {
    "collapsed": false
   },
   "outputs": [],
   "source": [
    "import numpy as np\n",
    "from shapely.geometry import Point, Polygon, MultiPoint\n",
    "import pyproj\n",
    "\n",
    "from geopyspark import geopyspark_conf\n",
    "from geopyspark.geotrellis import (catalog, geotiff, rasterize, hillshade, euclidean_distance, cost_distance,\n",
    "                                   Tile, Extent, ProjectedExtent, TileLayout, LayoutDefinition, SpatialKey,\n",
    "                                   Bounds, Metadata)\n",
    "from geopyspark.geotrellis.constants import LayerType, LayoutScheme, ResampleMethod, Neighborhood, Operation\n",
    "from geopyspark.geotrellis.layer import TiledRasterLayer\n",
    "from geopyspark.geotrellis.neighborhood import Square\n",
    "\n",
    "from pyspark import SparkContext"
   ]
  },
  {
   "cell_type": "code",
   "execution_count": null,
   "metadata": {
    "collapsed": true
   },
   "outputs": [],
   "source": [
    "conf = geopyspark_conf(master=\"local[*]\", appName=\"tiled-raster-layer-examples\")\n",
    "pysc = SparkContext(conf=conf)"
   ]
  },
  {
   "cell_type": "markdown",
   "metadata": {},
   "source": [
    "## Creating TiledRasterLayers"
   ]
  },
  {
   "cell_type": "markdown",
   "metadata": {},
   "source": [
    "### From PySpark RDD\n",
    "\n",
    "Like `RasterLayer`s, `TiledRasterLayer`s can be created from RDDS using `from_numpy_rdd` as well. What is different, however, is `Metadata` which must also be passed in during initialization. This makes creating `TiledRasterLayer`s this way a little bit more arduous.\n",
    "\n",
    "The following example constructs a RDD with a tuple. The first element is a `SpatialKey` because we have decidec to make the data spatial. If we were dealing with spatial-temproal data, then `SpaceTimeKey` would be the first element. `Tile` will always be the second element of the tuple."
   ]
  },
  {
   "cell_type": "code",
   "execution_count": null,
   "metadata": {
    "collapsed": false
   },
   "outputs": [],
   "source": [
    "data = np.array([[\n",
    "    [1.0, 1.0, 1.0, 1.0, 1.0],\n",
    "    [1.0, 1.0, 1.0, 1.0, 1.0],\n",
    "    [1.0, 1.0, 1.0, 1.0, 1.0],\n",
    "    [1.0, 1.0, 1.0, 1.0, 1.0],\n",
    "    [1.0, 1.0, 1.0, 1.0, 0.0]]], dtype=float)\n",
    "\n",
    "layer = [(SpatialKey(row=0, col=0), Tile(cells=data, cell_type='FLOAT', no_data_value=-1.0)),\n",
    "         (SpatialKey(row=1, col=0), Tile(cells=data, cell_type='FLOAT', no_data_value=-1.0)),\n",
    "         (SpatialKey(row=0, col=1), Tile(cells=data, cell_type='FLOAT', no_data_value=-1.0)),\n",
    "         (SpatialKey(row=1, col=1), Tile(cells=data, cell_type='FLOAT', no_data_value=-1.0))]\n",
    "\n",
    "rdd = pysc.parallelize(layer)\n",
    "\n",
    "extent = Extent(0.0, 0.0, 33.0, 33.0)\n",
    "layout = TileLayout(2, 2, 5, 5)\n",
    "bounds = Bounds(SpatialKey(col=0, row=0), SpatialKey(col=1, row=1))\n",
    "layout_definition = LayoutDefinition(extent, layout)\n",
    "\n",
    "metadata = Metadata(\n",
    "    bounds=bounds,\n",
    "    crs='+proj=longlat +datum=WGS84 +no_defs ',\n",
    "    cell_type='float32ud-1.0',\n",
    "    extent=extent,\n",
    "    layout_definition=layout_definition)\n",
    "\n",
    "tiled_layer = TiledRasterLayer.from_numpy_rdd(pysc=pysc, layer_type=LayerType.SPATIAL, numpy_rdd=rdd,\n",
    "                                              metadata=metadata)\n",
    "tiled_layer"
   ]
  },
  {
   "cell_type": "markdown",
   "metadata": {},
   "source": [
    "### Through Rasterization\n",
    "\n",
    "Another means of producing `TiledRasterLayer` is through rasterizing a Shapely geometry via the `rasterize` method."
   ]
  },
  {
   "cell_type": "code",
   "execution_count": null,
   "metadata": {
    "collapsed": false
   },
   "outputs": [],
   "source": [
    "extent = Extent(0.0, 0.0, 11.0, 11.0)\n",
    "polygon = Polygon([(0, 11), (11, 11), (11, 0), (0, 0)])\n",
    "\n",
    "rasterize.rasterize(pysc=pysc, geoms=[polygon], crs=\"EPSG:3857\", zoom=10, fill_value=1.0)"
   ]
  },
  {
   "cell_type": "markdown",
   "metadata": {},
   "source": [
    "### Through Euclidean Distance\n",
    "\n",
    "The final way to create `TiledRasterLayer` is by calculating the Euclidean distance of a Shapely geometry. `euclidean_distance` is the class method which does this. While you can use any geometry to perform Euclidean distance, it is recommended not to use Polygons if they cover many cells of the resulting raster. As this can impact performance in a negative way."
   ]
  },
  {
   "cell_type": "code",
   "execution_count": null,
   "metadata": {
    "collapsed": false
   },
   "outputs": [],
   "source": [
    "latlong = pyproj.Proj(init='epsg:4326')\n",
    "webmerc = pyproj.Proj(init='epsg:3857')\n",
    "points = MultiPoint([pyproj.transform(latlong, webmerc, 1, 1),\n",
    "                     pyproj.transform(latlong, webmerc, 2, 2)])\n",
    "\n",
    "points = MultiPoint([Point(0, 0), Point(0, 1), Point(1, 0), Point(1, 1)])\n",
    "\n",
    "# Makes a TiledRasterRDD from the Euclidean distance calculation.\n",
    "euclidean_distance.euclidean_distance(pysc=pysc, geometry=points, source_crs=3857, zoom=7)"
   ]
  },
  {
   "cell_type": "markdown",
   "metadata": {},
   "source": [
    "## Using TiledRasterLayers\n",
    "\n",
    "`TiledRasterLayer`s will be the class that will see the most use. It provides all the methods needed to perform a computations and analysis on the data. When reading and saving layers, this class will be used."
   ]
  },
  {
   "cell_type": "markdown",
   "metadata": {},
   "source": [
    "### Reprojecting\n",
    "\n",
    "Often the tiles within a `TiledRasterLayer` will have to be reprojected. There is a method to do this aptly named, `reproject`. There are a few different ways to use this method. Each of which provides different results.\n",
    "\n",
    "The first option is to specify an `Extent` and a `TileLayout`. Where the `Extent` is the area that will be covered by the tiles and the `TileLayout` describes the tiles and the grid they’re arranged on."
   ]
  },
  {
   "cell_type": "code",
   "execution_count": null,
   "metadata": {
    "collapsed": false
   },
   "outputs": [],
   "source": [
    "extent = Extent(0.0, 0.0, 33.0, 33.0)\n",
    "tile_layout = TileLayout(2, 2, 256, 256)\n",
    "\n",
    "tiled_layer.reproject(target_crs=3857, extent=extent, layout=tile_layout)"
   ]
  },
  {
   "cell_type": "markdown",
   "metadata": {},
   "source": [
    "The other option is to simply give `reproject` a `tile_size` that each tile should be in the resulting grid. `Extent` and `TileLayout` will be calculated from this size. Using this method will ensure that the native resolutions of the rasters are kept.\n",
    "\n",
    "Below, we will be using the default `tile_size`, 256."
   ]
  },
  {
   "cell_type": "code",
   "execution_count": null,
   "metadata": {
    "collapsed": false
   },
   "outputs": [],
   "source": [
    "tiled_layer.reproject(target_crs=3857)"
   ]
  },
  {
   "cell_type": "markdown",
   "metadata": {},
   "source": [
    "If you're planning on making a TMS server, then the following is the only way to reproject the layer."
   ]
  },
  {
   "cell_type": "code",
   "execution_count": null,
   "metadata": {
    "collapsed": false
   },
   "outputs": [],
   "source": [
    "tiled_layer.reproject(target_crs=3857, scheme=LayoutScheme.ZOOM)"
   ]
  },
  {
   "cell_type": "markdown",
   "metadata": {},
   "source": [
    "### Retiling\n",
    "\n",
    "It is possible to change the layout of the tiles within `TiledRasterLayer` via `tile_to_layout`."
   ]
  },
  {
   "cell_type": "code",
   "execution_count": null,
   "metadata": {
    "collapsed": false
   },
   "outputs": [],
   "source": [
    "extent = Extent(100.0, 100.0, 250.0, 250.0)\n",
    "tile_layout = TileLayout(5, 5, 256, 256)\n",
    "layout_definition = LayoutDefinition(extent, tile_layout)\n",
    "\n",
    "tiled_layer.tile_to_layout(layout=layout_definition)"
   ]
  },
  {
   "cell_type": "markdown",
   "metadata": {},
   "source": [
    "### Masking\n",
    "\n",
    "By using `mask`, the `TiledRasterRDD` can be masekd using one or more Shapely geometries."
   ]
  },
  {
   "cell_type": "code",
   "execution_count": null,
   "metadata": {
    "collapsed": false
   },
   "outputs": [],
   "source": [
    "polygon = Polygon([(0, 0), (10, 0), (10, 10), (0, 10), (0, 0)])\n",
    "\n",
    "tiled_layer.mask(geometries=polygon)"
   ]
  },
  {
   "cell_type": "markdown",
   "metadata": {},
   "source": [
    "### Stitching\n",
    "\n",
    "Using `stitch` will produce a single `Tile` by stitching together all of the tiles within the `TiledRasterLayer`. This can only be done with spatial layers, and is not recommended if the data contained within is large. As it can cause crashes due to its size."
   ]
  },
  {
   "cell_type": "code",
   "execution_count": null,
   "metadata": {
    "collapsed": false
   },
   "outputs": [],
   "source": [
    "tiled_layer.stitch()"
   ]
  },
  {
   "cell_type": "markdown",
   "metadata": {},
   "source": [
    "### Pyramiding\n",
    "\n",
    "`pyramid` will create a new `TiledRasterLayer` for each zoom level, and the resulting list will then be used to create a new instance of the `Pyramid` class."
   ]
  },
  {
   "cell_type": "code",
   "execution_count": null,
   "metadata": {
    "collapsed": false
   },
   "outputs": [],
   "source": [
    "tiled_layer.pyramid(start_zoom=12, end_zoom=1)"
   ]
  },
  {
   "cell_type": "markdown",
   "metadata": {},
   "source": [
    "### Operations\n",
    "\n",
    "TiledRasterRDDs can perform both local and focal operations."
   ]
  },
  {
   "cell_type": "markdown",
   "metadata": {},
   "source": [
    "#### Local\n",
    "\n",
    "Performing local operations with `TiledRasterLayer`s can be performed with ints, floats, or other `TiledRasterLayer`s."
   ]
  },
  {
   "cell_type": "code",
   "execution_count": null,
   "metadata": {
    "collapsed": false
   },
   "outputs": [],
   "source": [
    "tiled_layer + 1\n",
    "\n",
    "(tiled_layer + tiled_layer) / 2\n",
    "\n",
    "1 / (5 - tiled_layer)"
   ]
  },
  {
   "cell_type": "markdown",
   "metadata": {},
   "source": [
    "#### Focal\n",
    "\n",
    "Focal operations are done by selecting both a `neighborhood` and an `operation`. Because the inputs must be sent over to Scala, the operation must be entered in the form of a constant.\n",
    "\n",
    "`neighborhood` can be specified with either a `Neighboorhod` sub-class, or a constant. The first example will be using one of the `Neighborhood` classes."
   ]
  },
  {
   "cell_type": "code",
   "execution_count": null,
   "metadata": {
    "collapsed": false
   },
   "outputs": [],
   "source": [
    "square_neighborhood = Square(extent=1)\n",
    "tiled_layer.focal(operation=Operation.SLOPE, neighborhood=square_neighborhood)"
   ]
  },
  {
   "cell_type": "markdown",
   "metadata": {},
   "source": [
    "Performing a focal operation with a constant for `neighborhood`."
   ]
  },
  {
   "cell_type": "code",
   "execution_count": null,
   "metadata": {
    "collapsed": false
   },
   "outputs": [],
   "source": [
    "tiled_layer.focal(operation=Operation.SLOPE, neighborhood=Neighborhood.SQUARE, param_1=1)"
   ]
  },
  {
   "cell_type": "markdown",
   "metadata": {},
   "source": [
    "#### Polygonal Summary\n",
    "\n",
    "In addition to local and focal methods, `TiledRasterLayer` can also perform polygonal summary methods. Using Shapely geometries, one can find the `min`, `max`, `sum`, and `mean` of all of the values intersected by the geometry."
   ]
  },
  {
   "cell_type": "code",
   "execution_count": null,
   "metadata": {
    "collapsed": false
   },
   "outputs": [],
   "source": [
    "polygon = Polygon([(0, 0), (10, 0), (10, 10), (0, 10), (0, 0)])\n",
    "\n",
    "tiled_layer.polygonal_min(geometry=polygon, data_type=int)\n",
    "\n",
    "tiled_layer.polygonal_max(geometry=polygon, data_type=float)\n",
    "\n",
    "tiled_layer.polygonal_sum(geometry=polygon, data_type=int)\n",
    "\n",
    "tiled_layer.polygonal_mean(geometry=polygon)"
   ]
  },
  {
   "cell_type": "markdown",
   "metadata": {},
   "source": [
    "### Cost Distance\n",
    "\n",
    "It’s possible to calculate the cost distance of a `TiledRasterLayer` via `cost_distance`."
   ]
  },
  {
   "cell_type": "code",
   "execution_count": null,
   "metadata": {
    "collapsed": false
   },
   "outputs": [],
   "source": [
    "points = [Point(0, 0), Point(1, 2)]\n",
    "\n",
    "cost_distance.cost_distance(friction_layer=tiled_layer, geometries=points, max_distance=144000)"
   ]
  },
  {
   "cell_type": "markdown",
   "metadata": {},
   "source": [
    "### Hillshade"
   ]
  },
  {
   "cell_type": "code",
   "execution_count": null,
   "metadata": {
    "collapsed": true
   },
   "outputs": [],
   "source": []
  },
  {
   "cell_type": "markdown",
   "metadata": {},
   "source": []
  },
  {
   "cell_type": "code",
   "execution_count": null,
   "metadata": {
    "collapsed": true
   },
   "outputs": [],
   "source": []
  },
  {
   "cell_type": "markdown",
   "metadata": {},
   "source": []
  }
 ],
 "metadata": {
  "kernelspec": {
   "display_name": "Python 3",
   "language": "python",
   "name": "python3"
  },
  "language_info": {
   "codemirror_mode": {
    "name": "ipython",
    "version": 3
   },
   "file_extension": ".py",
   "mimetype": "text/x-python",
   "name": "python",
   "nbconvert_exporter": "python",
   "pygments_lexer": "ipython3",
   "version": "3.5.1+"
  }
 },
 "nbformat": 4,
 "nbformat_minor": 2
}
