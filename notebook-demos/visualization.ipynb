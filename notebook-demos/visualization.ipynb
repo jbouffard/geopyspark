{
 "cells": [
  {
   "cell_type": "code",
   "execution_count": null,
   "metadata": {
    "collapsed": false
   },
   "outputs": [],
   "source": [
    "import geopyspark as gps\n",
    "import matplotlib.pyplot as plt\n",
    "\n",
    "from colortools import Color\n",
    "from pyspark import SparkContext\n",
    "\n",
    "%matplotlib inline"
   ]
  },
  {
   "cell_type": "code",
   "execution_count": null,
   "metadata": {
    "collapsed": false
   },
   "outputs": [],
   "source": [
    "!curl -o /tmp/cropped.tif https://s3.amazonaws.com/geopyspark-test/example-files/cropped.tif"
   ]
  },
  {
   "cell_type": "code",
   "execution_count": null,
   "metadata": {
    "collapsed": true
   },
   "outputs": [],
   "source": [
    "conf = gps.geopyspark_conf(master=\"local[*]\", appName=\"visualization\")\n",
    "pysc = SparkContext(conf=conf)"
   ]
  },
  {
   "cell_type": "code",
   "execution_count": null,
   "metadata": {
    "collapsed": true
   },
   "outputs": [],
   "source": [
    "raster_layer = gps.geotiff.get(layer_type=gps.LayerType.SPATIAL, uri=\"/tmp/cropped.tif\")\n",
    "tiled_layer = raster_layer.tile_to_layout(layout=gps.GlobalLayout(), target_crs=3857)"
   ]
  },
  {
   "cell_type": "markdown",
   "metadata": {},
   "source": [
    "# Visualizing Data in GeoPySpark\n",
    "\n",
    "Data is visualized in GeoPySpark by running a server which allows it to be viewed in an interactive way. Before putting the data on the server, however, it must first be formatted and colored. This guide seeks to go over the steps needed to create a visualization server in GeoPySpark."
   ]
  },
  {
   "cell_type": "markdown",
   "metadata": {},
   "source": [
    "## Pyramid\n",
    "\n",
    "The `pyramid` class represents a list of `TiledRasterLayer`s that represent the same area where each layer is a level within the pyramid at a specific zoom level. Thus, as one moves up the pyramid (starting a level 0), the image will become more zoomed by a power of 2 for each level. It is this varying level of detail that allows an interactive tile server to be created from a `Pyramid`. This class is needed in order to create visualizations of the contents within its layers."
   ]
  },
  {
   "cell_type": "markdown",
   "metadata": {},
   "source": [
    "### Creating a Pyramid\n",
    "\n",
    "There are currently two different ways to create a `Pyramid` instance: Through the `TiledRasterLayer.pyramid` method or by constructing it by passing in a `[TiledRasterLayer]` or `{zoom_level: TiledRasterLayer}` to `Pyramid`.\n",
    "\n",
    "Any `TiledRasterLayer` with a `max_zoom` can be pyramided. However, the resulting `Pyramid` may have limited functionality depending on the layout of the source `TiledRasterLayer`. In order to be used for visualization, the `Pyramid` **must** have been created from `TiledRasterLayer` that was tiled using a `GlobalLayout` and whose tile sizes are a power of 2."
   ]
  },
  {
   "cell_type": "markdown",
   "metadata": {},
   "source": [
    "#### Via the pyramid Method\n",
    "\n",
    "When using the `pyramid` method, a `Pyramid` instance will be created with levels from 0 to `TiledRasterlayer.zoom_level`. Thus, if a `TiledRasterLayer` has a `zoom_level` of 12 then the resulting `Pyramid` will have 13 levels that each correspond to a zoom from 0 to 12."
   ]
  },
  {
   "cell_type": "code",
   "execution_count": null,
   "metadata": {
    "collapsed": false
   },
   "outputs": [],
   "source": [
    "pyramided = tiled_layer.pyramid()\n",
    "pyramided"
   ]
  },
  {
   "cell_type": "markdown",
   "metadata": {},
   "source": [
    "#### Contrusting a Pyramid Manually"
   ]
  },
  {
   "cell_type": "code",
   "execution_count": null,
   "metadata": {
    "collapsed": false
   },
   "outputs": [],
   "source": [
    "gps.Pyramid([tiled_layer.tile_to_layout(gps.GlobalLayout(zoom=x)) for x in range(0, 13)])"
   ]
  },
  {
   "cell_type": "code",
   "execution_count": null,
   "metadata": {
    "collapsed": false
   },
   "outputs": [],
   "source": [
    "gps.Pyramid({x: tiled_layer.tile_to_layout(gps.GlobalLayout(zoom=x)) for x in range(0, 13)})"
   ]
  },
  {
   "cell_type": "markdown",
   "metadata": {},
   "source": [
    "### Computing the Histogram of a Pyramid\n",
    "\n",
    "One can produce a `Histogram` instance representing all of the layers within a `Pyramid` via the `get_histogram` method."
   ]
  },
  {
   "cell_type": "code",
   "execution_count": null,
   "metadata": {
    "collapsed": false
   },
   "outputs": [],
   "source": [
    "hist = pyramided.get_histogram()\n",
    "hist"
   ]
  },
  {
   "cell_type": "markdown",
   "metadata": {},
   "source": [
    "### RDD Methods\n",
    "\n",
    "`Pyramid` contains methods for working with the `RDD`s contained within its `TiledRasterLayer`s. A list of these can be found [here](layers.ipynb#rdd-methods). When used, all internal `RDD`s will be operated on."
   ]
  },
  {
   "cell_type": "markdown",
   "metadata": {},
   "source": [
    "### Map Algebra\n",
    "\n",
    "While not as versatile as `TiledRasterLayer` in terms of map algebra operations, `Pyramid`s are still able to perform local operations between themselves, `int`s, and `float`s.\n",
    "\n",
    "**Note**: Operations between two or more `Pyramid`s will occur on a per `Tile` basis which depends on the tiles having the same key. It is therefore possible to do an operation between two `Pyramid`s and getting a result where nothing has changed if neither of the `Pyramid`s have matching keys."
   ]
  },
  {
   "cell_type": "code",
   "execution_count": null,
   "metadata": {
    "collapsed": false,
    "scrolled": false
   },
   "outputs": [],
   "source": [
    "pyramided + 1"
   ]
  },
  {
   "cell_type": "code",
   "execution_count": null,
   "metadata": {
    "collapsed": false
   },
   "outputs": [],
   "source": [
    "(2 * (pyramided + 2)) / 3"
   ]
  },
  {
   "cell_type": "markdown",
   "metadata": {},
   "source": [
    "When performing operations on two or more `Pyramid`s, if the `Pyamid`s involved have different number of `level`s, then the resulting `Pyramid` will only have as many levels as the source `Pyramid` with the smallest level count."
   ]
  },
  {
   "cell_type": "code",
   "execution_count": null,
   "metadata": {
    "collapsed": false
   },
   "outputs": [],
   "source": [
    "small_pyramid = gps.Pyramid({x: tiled_layer.tile_to_layout(gps.GlobalLayout(zoom=x)) for x in range(0, 5)})\n",
    "small_pyramid"
   ]
  },
  {
   "cell_type": "code",
   "execution_count": null,
   "metadata": {
    "collapsed": false
   },
   "outputs": [],
   "source": [
    "pyramided + small_pyramid"
   ]
  },
  {
   "cell_type": "markdown",
   "metadata": {},
   "source": [
    "## ColorMap\n",
    "\n",
    "The `ColorMap` class in GeoPySpark acts as a wrapper for the GeoTrellis `ColorMap` class. It is used to colorize the data within a layer when it's being visualized."
   ]
  },
  {
   "cell_type": "markdown",
   "metadata": {},
   "source": [
    "### Constructing a Color Ramp\n",
    "\n",
    "Before we can initialize `ColorMap` we must first create a list of colors (or a color ramp) to pass in. This can be created either through a function in the `color` module or manually."
   ]
  },
  {
   "cell_type": "markdown",
   "metadata": {},
   "source": [
    "#### Using Matplotlib\n",
    "\n",
    "The `get_colors_from_matplotlib` function creates a color ramp using the name of on an existing in color ramp in `Matplotlib` and the number of colors.\n",
    "\n",
    "**Note**: This function will not work if `Matplotlib` is not installed."
   ]
  },
  {
   "cell_type": "code",
   "execution_count": null,
   "metadata": {
    "collapsed": false
   },
   "outputs": [],
   "source": [
    "color_ramp = gps.get_colors_from_matplotlib(ramp_name=\"viridis\")\n",
    "color_ramp"
   ]
  },
  {
   "cell_type": "code",
   "execution_count": null,
   "metadata": {
    "collapsed": false
   },
   "outputs": [],
   "source": [
    "gps.get_colors_from_matplotlib(ramp_name=\"hot\", num_colors=150)"
   ]
  },
  {
   "cell_type": "markdown",
   "metadata": {},
   "source": [
    "#### From ColorTools\n",
    "\n",
    "The second helper function for constructing a color ramp is `get_colors_from_colors`. This uses the `colortools` package to build the ramp from `[Color]` instances.\n",
    "\n",
    "**Note**: This function will not work if `colortools` is not installed."
   ]
  },
  {
   "cell_type": "code",
   "execution_count": null,
   "metadata": {
    "collapsed": false
   },
   "outputs": [],
   "source": [
    "colors = [Color('green'), Color('red'), Color('blue')]\n",
    "colors"
   ]
  },
  {
   "cell_type": "code",
   "execution_count": null,
   "metadata": {
    "collapsed": false
   },
   "outputs": [],
   "source": [
    "colors_color_ramp = gps.get_colors_from_colors(colors=colors)\n",
    "colors_color_ramp"
   ]
  },
  {
   "cell_type": "markdown",
   "metadata": {},
   "source": [
    "### Creating a ColorMap\n",
    "\n",
    "`ColorMap` has many different ways of being constructed depending on the inputs it's given. It has a general `build` method that can take various types for `breaks` and `colors` in addition to other `classmethod`s that have more specific inputs."
   ]
  },
  {
   "cell_type": "markdown",
   "metadata": {},
   "source": [
    "#### From a Histogram"
   ]
  },
  {
   "cell_type": "code",
   "execution_count": null,
   "metadata": {
    "collapsed": false
   },
   "outputs": [],
   "source": [
    "gps.ColorMap.from_histogram(histogram=hist, color_list=color_ramp)"
   ]
  },
  {
   "cell_type": "markdown",
   "metadata": {},
   "source": [
    "#### From a List of Colors"
   ]
  },
  {
   "cell_type": "code",
   "execution_count": null,
   "metadata": {
    "collapsed": false
   },
   "outputs": [],
   "source": [
    "# Creates a ColorMap instance that will have three colors for the values that are less than or equal to 0, 250, and\n",
    "# 1000.\n",
    "gps.ColorMap.from_colors(breaks=[0, 250, 1000], color_list=colors_color_ramp)"
   ]
  },
  {
   "cell_type": "markdown",
   "metadata": {},
   "source": [
    "#### For NLCD Data\n",
    "\n",
    "If the layers you are working with contain data from NLCD, then it is possible to construct a `ColorMap` without first making a color ramp and passing in a list of breaks."
   ]
  },
  {
   "cell_type": "code",
   "execution_count": null,
   "metadata": {
    "collapsed": false
   },
   "outputs": [],
   "source": [
    "gps.ColorMap.nlcd_colormap()"
   ]
  },
  {
   "cell_type": "markdown",
   "metadata": {},
   "source": [
    "#### From a Break Map\n",
    "\n",
    "If there aren't many colors to work with in the layer, than it may be easier to construct a `ColorMap` using a `break_map`, a `dict` that maps tile values to colors."
   ]
  },
  {
   "cell_type": "code",
   "execution_count": null,
   "metadata": {
    "collapsed": false
   },
   "outputs": [],
   "source": [
    "# The three tile values are 1, 2, and 3 and they correspond to the colors 0x00000000, 0x00000001, and 0x00000002\n",
    "# respectively.\n",
    "break_map = {\n",
    "    1: 0x00000000,\n",
    "    2: 0x00000001,\n",
    "    3: 0x00000002\n",
    "}\n",
    "\n",
    "gps.ColorMap.from_break_map(break_map=break_map)"
   ]
  },
  {
   "cell_type": "markdown",
   "metadata": {},
   "source": [
    "#### More General Build Method\n",
    "\n",
    "As mentioned above, `ColorMap` has a more general `classmethod` called `build` which a wide range of types to construct a `ColorMap`. In the following example, `build` will be passed the same inputs used in the previous examples."
   ]
  },
  {
   "cell_type": "code",
   "execution_count": null,
   "metadata": {
    "collapsed": false
   },
   "outputs": [],
   "source": [
    "# build using a Histogram\n",
    "gps.ColorMap.build(breaks=hist, colors=color_ramp)\n",
    "\n",
    "# It is also possible to pass in the name of Matplotlib color ramp instead of constructing it yourself\n",
    "gps.ColorMap.build(breaks=hist, colors=\"viridis\")\n",
    "\n",
    "# build using Colors\n",
    "gps.ColorMap.build(breaks=colors_color_ramp, colors=colors)\n",
    "\n",
    "# buld using breaks\n",
    "gps.ColorMap.build(breaks=break_map)"
   ]
  },
  {
   "cell_type": "markdown",
   "metadata": {},
   "source": [
    "#### Additional Coloring Options\n",
    "\n",
    "In addition to supplying breaks and color values to `ColorMap`, there are other ways of changing the coloring strategy of a layer.\n",
    "\n",
    "The following additional parameters that can be changed:\n",
    "\n",
    "- `no_data_color`: The color of the `no_data_value` of the `Tile`s. The default is `0x00000000`\n",
    "- `fallback`: The color to use when a `Tile` value has no color mapping. The default is `0x00000000`\n",
    "- `classification_strategy`: How the colors should be assigned to the values based on the breaks. The default is `ClassificationStrategy.LESS_THAN_OR_EQUAL_TO`."
   ]
  }
 ],
 "metadata": {
  "kernelspec": {
   "display_name": "Python 3",
   "language": "python",
   "name": "python3"
  },
  "language_info": {
   "codemirror_mode": {
    "name": "ipython",
    "version": 3
   },
   "file_extension": ".py",
   "mimetype": "text/x-python",
   "name": "python",
   "nbconvert_exporter": "python",
   "pygments_lexer": "ipython3",
   "version": "3.5.1+"
  }
 },
 "nbformat": 4,
 "nbformat_minor": 2
}
