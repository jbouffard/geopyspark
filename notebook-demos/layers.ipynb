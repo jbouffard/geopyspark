{
 "cells": [
  {
   "cell_type": "code",
   "execution_count": null,
   "metadata": {
    "collapsed": true
   },
   "outputs": [],
   "source": [
    "import datetime\n",
    "import numpy as np\n",
    "import pyproj\n",
    "import geopyspark as gps\n",
    "\n",
    "from pyspark import SparkContext\n",
    "from shapely.geometry import box"
   ]
  },
  {
   "cell_type": "code",
   "execution_count": null,
   "metadata": {
    "collapsed": false
   },
   "outputs": [],
   "source": [
    "!curl -o /tmp/cropped.tif https://s3.amazonaws.com/geopyspark-test/example-files/cropped.tif"
   ]
  },
  {
   "cell_type": "code",
   "execution_count": null,
   "metadata": {
    "collapsed": true
   },
   "outputs": [],
   "source": [
    "conf = gps.geopyspark_conf(master=\"local[*]\", appName=\"layers\")\n",
    "pysc = SparkContext(conf=conf)"
   ]
  },
  {
   "cell_type": "markdown",
   "metadata": {
    "collapsed": true
   },
   "source": [
    "# Working With Layers\n",
    "\n",
    "## How is Data Stored and Represented in GeoPySpark?\n",
    "\n",
    "All data that is worked with in GeoPySpark is at some point stored within an `RDD`. Therefore, it is important to understand how GeoPySpark stores, represents, and uses these `RDD`s throughout the library.\n",
    "\n",
    "GeoPySpark does not work with PySpark `RDD`s, but rather, uses Python classes that are wrappers for Scala classes that contain and work with a Scala `RDD`. Specifically, these wrapper classes are `RasterLayer` and `TiledRasterLayer`, which will be discussed in more detail later.\n",
    "\n",
    "### Layers Are More Than RDDs\n",
    "\n",
    "We refer to the Python wrapper classes as layers and not `RDD`s for two reasons: first, neither `RasterLayer` or `TiledRasterLayer` actually extends PySpark's `RDD` class; but more importantly, these classes contain more information than just the `RDD`. When we refer to a “layer”, we mean both the `RDD` and its attributes.\n",
    "\n",
    "The `RDD`s contained by GeoPySpark layers contain tuples which have type `(K, V)`, where `K` represents the key, and `V` represents the value. `V` will always be a `Tile`, but `K` differs depending on both the wrapper class and the nature of the data itself.  More on this below.\n",
    "\n",
    "### RasterLayer\n",
    "\n",
    "The `RasterLayer` class deals with _untiled data_—that is, the elements of the layer have not been normalized into a single unified layout.  Each raster element may have distinct resolutions or sizes; the extents of the constituent rasters need not follow any orderly pattern.  Essentially, a `RasterLayer` stores “raw” data, and its main purpose is to act as a way station on the path to acquiring _tiled data_ that adheres to a specified layout.\n",
    "\n",
    "The `RDD`s contained by `RasterLayer` objects have key type, `K`, of either `ProjectedExtent` or `TemporalProjectedExtent`, when the layer type is `SPATIAL` or `SPACETIME`, respectively.\n",
    "\n",
    "### TiledRasterLayer\n",
    "\n",
    "`TiledRasterLayer` is the complement to `RasterLayer` and is meant to store tiled data. Tiled data has been fitted to a certain layout, meaning that it has been regularly sampled, and it has been cut up into uniformly-sized, non-overlapping pieces that can be indexed sensibly.  The benefit of having data in this state is that now it will be easy to work with.  It is with this class that the user will be able to, for example, perform map algebra, create pyramids, and save the layer.  See below for the definitions and specific examples of these operations.\n",
    "\n",
    "In the case of `TiledRasterLayer`, `K` is either `SpatialKey` or `SpaceTimeKey`."
   ]
  },
  {
   "cell_type": "markdown",
   "metadata": {},
   "source": [
    "## RasterLayer"
   ]
  },
  {
   "cell_type": "markdown",
   "metadata": {},
   "source": [
    "### Creating RasterLayers\n",
    "\n",
    "There are just two ways to create a `RasterLayer`: (1) through reading GeoTiffs from the local file system, S3, or HDFS; or (2) from an existing PySpark RDD."
   ]
  },
  {
   "cell_type": "markdown",
   "metadata": {},
   "source": [
    "#### From PySpark RDDs\n",
    "\n",
    "The first option is to create a `RasterLayer` from a PySpark `RDD` via the `from_numpy_rdd` class method. This step can be a bit more involved, as it requires the data within the PySpark RDD to be formatted in a specific way (see [How is Data Stored and Represented in GeoPySpark](#How-is-Data-Stored-and-Represented-in-GeoPySpark?) for more information).\n",
    "\n",
    "The following example constructs an `RDD` from a tuple. The first element is a `ProjectedExtent` because we have decided to make the data spatial. If we were dealing with spatial-temproal data, then `TemporalProjectedExtent` would be the first element. A `Tile` will always be the second element of the tuple."
   ]
  },
  {
   "cell_type": "code",
   "execution_count": null,
   "metadata": {
    "collapsed": false
   },
   "outputs": [],
   "source": [
    "arr = np.ones((1, 16, 16), dtype='int')\n",
    "tile = gps.Tile.from_numpy_array(numpy_array=np.array(arr), no_data_value=-500)\n",
    "\n",
    "extent = gps.Extent(0.0, 1.0, 2.0, 3.0)\n",
    "projected_extent = gps.ProjectedExtent(extent=extent, epsg=3857)\n",
    "\n",
    "rdd = pysc.parallelize([(projected_extent, tile), (projected_extent, tile)])\n",
    "multiband_raster_layer = gps.RasterLayer.from_numpy_rdd(layer_type=gps.LayerType.SPATIAL, numpy_rdd=rdd)\n",
    "multiband_raster_layer"
   ]
  },
  {
   "cell_type": "markdown",
   "metadata": {},
   "source": [
    "#### From GeoTiffs\n",
    "\n",
    "The `get` function in the `geopyspark.geotrellis.geotiff` module creates an instance of `RasterLayer` from GeoTiffs. These files can be located on either your local file system, HDFS, or S3. In this example, a GeoTiff with spatial data is read locally."
   ]
  },
  {
   "cell_type": "code",
   "execution_count": null,
   "metadata": {
    "collapsed": false,
    "scrolled": true
   },
   "outputs": [],
   "source": [
    "raster_layer = gps.geotiff.get(layer_type=gps.LayerType.SPATIAL, uri=\"file:///tmp/cropped.tif\")\n",
    "raster_layer"
   ]
  },
  {
   "cell_type": "markdown",
   "metadata": {},
   "source": [
    "### Using RasterLayer\n",
    "\n",
    "This next section goes over the methods of `RasterLayer`. It should be noted that not all methods contained within this class will be covered. More information on the methods that deal with the visualization of the contents of the layer can be found in the [visualization guide](visualization.ipynb)."
   ]
  },
  {
   "cell_type": "markdown",
   "metadata": {},
   "source": [
    "#### Converting to a Python RDD\n",
    "\n",
    "By using `to_numpy_rdd`, the base `RasterLayer` will be serialized into a Python `RDD`. This will convert all of the first values within each tuple to either `ProjectedExtent` or `TemporalProjectedExtent`, and the second value to `Tile`."
   ]
  },
  {
   "cell_type": "code",
   "execution_count": null,
   "metadata": {
    "collapsed": false,
    "scrolled": false
   },
   "outputs": [],
   "source": [
    "python_rdd = raster_layer.to_numpy_rdd()\n",
    "python_rdd"
   ]
  },
  {
   "cell_type": "code",
   "execution_count": null,
   "metadata": {
    "collapsed": false
   },
   "outputs": [],
   "source": [
    "python_rdd.first()"
   ]
  },
  {
   "cell_type": "markdown",
   "metadata": {},
   "source": [
    "#### SpaceTime Layer to Spatial Layer\n",
    "\n",
    "If you're working with a spatial-temporal layer and would like to convert it to a spatial layer, then you can use the `to_spatial_layer` method. This changes the keys of the `RDD` within the layer by converting `TemporalProjectedExtent` to `ProjectedExtent`."
   ]
  },
  {
   "cell_type": "code",
   "execution_count": null,
   "metadata": {
    "collapsed": false
   },
   "outputs": [],
   "source": [
    "# Creating the space time layer\n",
    "\n",
    "instant = datetime.datetime.now()\n",
    "temporal_projected_extent = gps.TemporalProjectedExtent(extent=projected_extent.extent,\n",
    "                                                        epsg=projected_extent.epsg,\n",
    "                                                        instant=instant)\n",
    "\n",
    "space_time_rdd = pysc.parallelize([temporal_projected_extent, tile])\n",
    "space_time_layer = gps.RasterLayer.from_numpy_rdd(layer_type=gps.LayerType.SPACETIME, numpy_rdd=space_time_rdd)\n",
    "space_time_layer"
   ]
  },
  {
   "cell_type": "code",
   "execution_count": null,
   "metadata": {
    "collapsed": false
   },
   "outputs": [],
   "source": [
    "# Converting the SpaceTime layer to a Spatial layer\n",
    "\n",
    "space_time_layer.to_spatial_layer()"
   ]
  },
  {
   "cell_type": "markdown",
   "metadata": {},
   "source": [
    "#### Collecting Metadata\n",
    "\n",
    "The `Metadata` of a layer contains information of the values within it. This data pertains to the layout, projection, and extent of the data found within the layer.\n",
    "\n",
    "`collect_metadata` will return the `Metadata` of the layer that fits the `layout` given."
   ]
  },
  {
   "cell_type": "code",
   "execution_count": null,
   "metadata": {
    "collapsed": false
   },
   "outputs": [],
   "source": [
    "# Collecting Metadata with the default LocalLayout()\n",
    "metadata = raster_layer.collect_metadata()\n",
    "metadata"
   ]
  },
  {
   "cell_type": "code",
   "execution_count": null,
   "metadata": {
    "collapsed": false
   },
   "outputs": [],
   "source": [
    "# Collecting Metadata with the default GlobalLayout()\n",
    "raster_layer.collect_metadata(layout=gps.GlobalLayout())"
   ]
  },
  {
   "cell_type": "code",
   "execution_count": null,
   "metadata": {
    "collapsed": false
   },
   "outputs": [],
   "source": [
    "# Collecting Metadata with a LayoutDefinition\n",
    "extent = gps.Extent(0.0, 0.0, 33.0, 33.0)\n",
    "tile_layout = gps.TileLayout(2, 2, 256, 256)\n",
    "layout_definition = gps.LayoutDefinition(extent, tile_layout)\n",
    "\n",
    "raster_layer.collect_metadata(layout=layout_definition)"
   ]
  },
  {
   "cell_type": "markdown",
   "metadata": {},
   "source": [
    "#### Reproject\n",
    "\n",
    "`reproject` will change the projection the rasters within the layer to the given `target_crs`. This method does not sample past the tiles' boundaries."
   ]
  },
  {
   "cell_type": "code",
   "execution_count": null,
   "metadata": {
    "collapsed": false
   },
   "outputs": [],
   "source": [
    "# The CRS of the layer before reprojecting\n",
    "metadata.crs"
   ]
  },
  {
   "cell_type": "code",
   "execution_count": null,
   "metadata": {
    "collapsed": false
   },
   "outputs": [],
   "source": [
    "# The CRS of the layer after reprojecting\n",
    "raster_layer.reproject(target_crs=3857).collect_metadata().crs"
   ]
  },
  {
   "cell_type": "markdown",
   "metadata": {},
   "source": [
    "#### Tiling Data to a Layout\n",
    "\n",
    "`tile_to_layout` will tile and format the rasters within a ``RasterLayer`` to a given layout. The result of this tiling is a new instance of `TiledRasterLayer`. This output contains the same data as its source `RasterLayer`, however, the information contained within it will now be orginized according to the given layout.\n",
    "\n",
    "During this step it is also possible to reproject the `RasterLayer`. This can be done by specifying the `target_crs` to reproject to. Reprojecting using this method produces a different result than what is returned by the `reproject` method. Whereas the latter does not sample past the boundaries of rasters within the layer, the former does. This is important as anything with a `GlobalLayout` needs to sample past the boundaries of the rasters."
   ]
  },
  {
   "cell_type": "markdown",
   "metadata": {},
   "source": [
    "##### From Metadata\n",
    "\n",
    "Create a `TiledRasterLayer` that contains the layout from the given `Metadata`.\n",
    "\n",
    "**Note**: If the specified `target_crs` is different from what's in the metadata, then an error will be thrown."
   ]
  },
  {
   "cell_type": "code",
   "execution_count": null,
   "metadata": {
    "collapsed": false
   },
   "outputs": [],
   "source": [
    "raster_layer.tile_to_layout(layout=metadata)"
   ]
  },
  {
   "cell_type": "markdown",
   "metadata": {},
   "source": [
    "##### From LayoutDefinition"
   ]
  },
  {
   "cell_type": "code",
   "execution_count": null,
   "metadata": {
    "collapsed": false
   },
   "outputs": [],
   "source": [
    "raster_layer.tile_to_layout(layout=layout_definition)"
   ]
  },
  {
   "cell_type": "markdown",
   "metadata": {},
   "source": [
    "##### From LocalLayout"
   ]
  },
  {
   "cell_type": "code",
   "execution_count": null,
   "metadata": {
    "collapsed": false
   },
   "outputs": [],
   "source": [
    "raster_layer.tile_to_layout(gps.LocalLayout())"
   ]
  },
  {
   "cell_type": "markdown",
   "metadata": {},
   "source": [
    "##### From GlobalLayout"
   ]
  },
  {
   "cell_type": "code",
   "execution_count": null,
   "metadata": {
    "collapsed": false
   },
   "outputs": [],
   "source": [
    "tiled_raster_layer = raster_layer.tile_to_layout(gps.GlobalLayout())\n",
    "tiled_raster_layer"
   ]
  },
  {
   "cell_type": "markdown",
   "metadata": {},
   "source": [
    "##### From A TiledRasterLayer\n",
    "\n",
    "One can tile a `RasterLayer` to the same layout as a `TiledRasterLayout`.\n",
    "\n",
    "**Note**: If the specifying `target_crs` is different from the other layer's, then an error will be thrown."
   ]
  },
  {
   "cell_type": "code",
   "execution_count": null,
   "metadata": {
    "collapsed": false,
    "scrolled": true
   },
   "outputs": [],
   "source": [
    "raster_layer.tile_to_layout(layout=tiled_raster_layer)"
   ]
  },
  {
   "cell_type": "markdown",
   "metadata": {},
   "source": [
    "## TiledRasterLayer"
   ]
  },
  {
   "cell_type": "markdown",
   "metadata": {},
   "source": [
    "### Creating TiledRasterLayers\n",
    "\n",
    "For this guide, we will just go over one initialization method for `TiledRasterLayer`, `from_numpy_rdd`. However, there are other ways to create this class. These additional creation strategies can be found in the [map algebra guide]."
   ]
  },
  {
   "cell_type": "markdown",
   "metadata": {},
   "source": [
    "#### From PySpark RDD\n",
    "\n",
    "Like `RasterLayer`s, `TiledRasterLayer`s can be created from `RDD`s using `from_numpy_rdd`. What is different, however, is that `Metadata` must also be passed in during initialization. This makes creating `TiledRasterLayer`s this way a little bit more arduous.\n",
    "\n",
    "The following example constructs an `RDD` from a tuple. The first element is a `SpatialKey` because we have decided to make the data spatial. If we were dealing with spatial-temproal data, then `SpaceTimeKey` would be the first element. `Tile` will always be the second element of the tuple."
   ]
  },
  {
   "cell_type": "code",
   "execution_count": null,
   "metadata": {
    "collapsed": false,
    "scrolled": true
   },
   "outputs": [],
   "source": [
    "data = np.zeros((1, 512, 512), dtype='float32')\n",
    "tile = gps.Tile.from_numpy_array(numpy_array=data, no_data_value=-1.0)\n",
    "instant = datetime.datetime.now()\n",
    "\n",
    "layer = [(gps.SpaceTimeKey(row=0, col=0, instant=instant), tile),\n",
    "         (gps.SpaceTimeKey(row=1, col=0, instant=instant), tile),\n",
    "         (gps.SpaceTimeKey(row=0, col=1, instant=instant), tile),\n",
    "         (gps.SpaceTimeKey(row=1, col=1, instant=instant), tile)]\n",
    "\n",
    "rdd = pysc.parallelize(layer)\n",
    "\n",
    "extent = gps.Extent(0.0, 0.0, 33.0, 33.0)\n",
    "layout = gps.TileLayout(2, 2, 512, 512)\n",
    "bounds = gps.Bounds(gps.SpaceTimeKey(col=0, row=0, instant=instant), gps.SpaceTimeKey(col=1, row=1, instant=instant))\n",
    "layout_definition = gps.LayoutDefinition(extent, layout)\n",
    "\n",
    "metadata = gps.Metadata(\n",
    "    bounds=bounds,\n",
    "    crs='+proj=merc +lon_0=0 +k=1 +x_0=0 +y_0=0 +a=6378137 +b=6378137 +towgs84=0,0,0,0,0,0,0 +units=m +no_defs ',\n",
    "    cell_type='float32ud-1.0',\n",
    "    extent=extent,\n",
    "    layout_definition=layout_definition)\n",
    "\n",
    "space_time_tiled_layer = gps.TiledRasterLayer.from_numpy_rdd(layer_type=gps.LayerType.SPACETIME,\n",
    "                                                             numpy_rdd=rdd, metadata=metadata)\n",
    "space_time_tiled_layer"
   ]
  },
  {
   "cell_type": "markdown",
   "metadata": {},
   "source": [
    "### Using TiledRasterLayers\n",
    "\n",
    "This section will go over the methods found within `TiledRasterLayer`. Like with `RasterLayer`, not all methods within this class will be covered in this guide. More information on the methods that deal with the visualization of the contents of the layer can be found in the [visualization guide](visualization.ipynb); and those that deal with map algebra can be found in the [map algebra guide]."
   ]
  },
  {
   "cell_type": "markdown",
   "metadata": {},
   "source": [
    "#### Converting to a Python RDD\n",
    "\n",
    "By using `to_numpy_rdd`, the base `TiledRasterLayer` will be serialized into a Python `RDD`. This will convert all of the first values within each tuple to either `SpatialKey` or `SpaceTimeKey`, and the second value to `Tile`."
   ]
  },
  {
   "cell_type": "code",
   "execution_count": null,
   "metadata": {
    "collapsed": true,
    "scrolled": false
   },
   "outputs": [],
   "source": [
    "python_rdd = tiled_raster_layer.to_numpy_rdd()"
   ]
  },
  {
   "cell_type": "code",
   "execution_count": null,
   "metadata": {
    "collapsed": false
   },
   "outputs": [],
   "source": [
    "python_rdd.first()"
   ]
  },
  {
   "cell_type": "markdown",
   "metadata": {},
   "source": [
    "#### SpaceTime Layer to Spatial Layer\n",
    "\n",
    "If you're working with a spatiotemporal layer and would like to convert it to a spatial layer, then you can use the `to_spatial_layer` method. This changes the keys of the `RDD` within the layer by converting `SpaceTimeKey` to `SpatialKey`."
   ]
  },
  {
   "cell_type": "code",
   "execution_count": null,
   "metadata": {
    "collapsed": false
   },
   "outputs": [],
   "source": [
    "# Creating the space time layer\n",
    "\n",
    "instant = datetime.datetime.now()\n",
    "space_time_key = gps.SpaceTimeKey(col=0, row=0, instant=instant)\n",
    "\n",
    "metadata = gps.Metadata(\n",
    "    bounds=gps.Bounds(space_time_key, space_time_key),\n",
    "    cell_type='int16',\n",
    "    crs = '+proj=merc +lon_0=0 +k=1 +x_0=0 +y_0=0 +a=6378137 +b=6378137 +towgs84=0,0,0,0,0,0,0 +units=m +no_defs ',\n",
    "    extent=extent,\n",
    "    layout_definition=layout_definition)\n",
    "\n",
    "space_time_rdd = pysc.parallelize([space_time_key, tile])\n",
    "space_time_layer = gps.TiledRasterLayer.from_numpy_rdd(layer_type=gps.LayerType.SPACETIME,\n",
    "                                                       numpy_rdd=space_time_rdd,\n",
    "                                                       metadata=metadata)\n",
    "space_time_layer"
   ]
  },
  {
   "cell_type": "code",
   "execution_count": null,
   "metadata": {
    "collapsed": false
   },
   "outputs": [],
   "source": [
    "# Converting the SpaceTime layer to a Spatial layer\n",
    "\n",
    "space_time_layer.to_spatial_layer()"
   ]
  },
  {
   "cell_type": "markdown",
   "metadata": {},
   "source": [
    "#### Repartitioning\n",
    "\n",
    "While not an `RDD`, `TiledRasterLayer` does contain an underlying `RDD`, and thus, it can be repartitioned using the `repartition` method."
   ]
  },
  {
   "cell_type": "code",
   "execution_count": null,
   "metadata": {
    "collapsed": false
   },
   "outputs": [],
   "source": [
    "# Repartition the internal RDD to have 120 partitions\n",
    "tiled_raster_layer.repartition(num_partitions=120)"
   ]
  },
  {
   "cell_type": "markdown",
   "metadata": {},
   "source": [
    "#### Lookup\n",
    "\n",
    "If there is a particular tile within the layer that is of interest, it is possible to retrieve it as a `Tile` using the `lookup` method."
   ]
  },
  {
   "cell_type": "code",
   "execution_count": null,
   "metadata": {
    "collapsed": false
   },
   "outputs": [],
   "source": [
    "min_key = tiled_raster_layer.layer_metadata.bounds.minKey\n",
    "\n",
    "# Retrieve the Tile that is located at the smallest column and row of the layer\n",
    "tiled_raster_layer.lookup(col=min_key.col, row=min_key.row)"
   ]
  },
  {
   "cell_type": "markdown",
   "metadata": {},
   "source": [
    "#### Masking\n",
    "\n",
    "By using `mask` method, the `TiledRasterRDD` can be masekd using one or more Shapely geometries."
   ]
  },
  {
   "cell_type": "code",
   "execution_count": null,
   "metadata": {
    "collapsed": false
   },
   "outputs": [],
   "source": [
    "layer_extent = tiled_raster_layer.layer_metadata.extent\n",
    "\n",
    "# Polygon to mask a region of the layer\n",
    "mask = box(layer_extent.xmin,\n",
    "           layer_extent.ymin,\n",
    "           layer_extent.xmin + 20,\n",
    "           layer_extent.ymin + 20)\n",
    "\n",
    "tiled_raster_layer.mask(geometries=mask)"
   ]
  },
  {
   "cell_type": "code",
   "execution_count": null,
   "metadata": {
    "collapsed": false
   },
   "outputs": [],
   "source": [
    "mask_2 = box(layer_extent.xmin + 50,\n",
    "             layer_extent.ymin + 50,\n",
    "             layer_extent.xmax - 20,\n",
    "             layer_extent.ymax - 20)\n",
    "\n",
    "# Multiple Polygons can be given to mask the layer\n",
    "tiled_raster_layer.mask(geometries=[mask, mask_2])"
   ]
  },
  {
   "cell_type": "markdown",
   "metadata": {},
   "source": [
    "#### Normalize\n",
    "\n",
    "`normalize` will linearly transform the data within the layer such that all values fall within a given range."
   ]
  },
  {
   "cell_type": "code",
   "execution_count": null,
   "metadata": {
    "collapsed": false
   },
   "outputs": [],
   "source": [
    "# Normalizes the layer so that the new min value is 0 and the new max value is 60000\n",
    "tiled_raster_layer.normalize(new_min=0, new_max=60000)"
   ]
  },
  {
   "cell_type": "markdown",
   "metadata": {},
   "source": [
    "#### Pyramiding\n",
    "\n",
    "When using a layer for a TMS server, it is important that the layer is pyramided.  That is, we create a level-of-detail hierarchy that covers the same geographical extent, while each level of the pyramid uses one quarter as many pixels as the next level. This allows us to zoom in and out when the layer is being displayed without using extraneous detail. The `pyramid` method will produce an instance of `Pyramid` that will contain within it multiple `TiledRasterLayer`s. Each layer corresponds to a zoom level, and the number of levels depends on the `zoom_level` of the source layer. With the max zoom of the `Pyramid` being the source layer's `zoom_level`, and the lowest zoom being 0.\n",
    "\n",
    "For more information on the `Pyramiding` class, see the [Pyramid section](visualization.ipynb#Pyramid) of the visualization guide."
   ]
  },
  {
   "cell_type": "code",
   "execution_count": null,
   "metadata": {
    "collapsed": false
   },
   "outputs": [],
   "source": [
    "# This creates a Pyramid with zoom levels that go from 0 to 11 for a total of 12.\n",
    "tiled_raster_layer.pyramid()"
   ]
  },
  {
   "cell_type": "markdown",
   "metadata": {},
   "source": [
    "#### Reproject\n",
    "\n",
    "This is similar to the `reproject` method for `RasterLayer` where the reprojection will not sample past the tiles' boundaries. This means the layout of the tiles will be changed so that they will take on a `LocalLayout` rather than a `GlobalLayout` (read more about these layouts [here](core-concepts.ipynb#Tiling-Strategies)). Because of this, whatever `zoom_level` the `TiledRasterLayer` has will be changed to 0 since the area being represented changes to just the tiles."
   ]
  },
  {
   "cell_type": "code",
   "execution_count": null,
   "metadata": {
    "collapsed": false
   },
   "outputs": [],
   "source": [
    "# The zoom_level and crs of the TiledRasterLayer before reprojecting\n",
    "tiled_raster_layer.zoom_level, tiled_raster_layer.layer_metadata.crs"
   ]
  },
  {
   "cell_type": "code",
   "execution_count": null,
   "metadata": {
    "collapsed": false,
    "scrolled": true
   },
   "outputs": [],
   "source": [
    "reprojected_tiled_raster_layer = tiled_raster_layer.reproject(target_crs=3857)\n",
    "\n",
    "# The zoom_level and crs of the TiledRasterLayer after reprojecting\n",
    "reprojected_tiled_raster_layer.zoom_level, reprojected_tiled_raster_layer.layer_metadata.crs"
   ]
  },
  {
   "cell_type": "markdown",
   "metadata": {},
   "source": [
    "#### Stitching\n",
    "\n",
    "Using `stitch` will produce a single `Tile` by stitching together all of the tiles within the `TiledRasterLayer`. This can only be done with spatial layers, and is not recommended if the data contained within the layer is large, as it can cause a crash due to the size of the resulting `Tile`."
   ]
  },
  {
   "cell_type": "code",
   "execution_count": null,
   "metadata": {
    "collapsed": false
   },
   "outputs": [],
   "source": [
    "# Creates a Tile with an underlying numpy array with a size of (1, 6144, 1536).\n",
    "tiled_raster_layer.stitch().cells.shape"
   ]
  },
  {
   "cell_type": "markdown",
   "metadata": {},
   "source": [
    "#### Saving a Stitched Layer\n",
    "\n",
    "The `save_stitched` method both stitches and saves a layer as a GeoTiff."
   ]
  },
  {
   "cell_type": "code",
   "execution_count": null,
   "metadata": {
    "collapsed": false
   },
   "outputs": [],
   "source": [
    "# Saves the stitched layer to /tmp/stitched.tif\n",
    "tiled_raster_layer.save_stitched(path='/tmp/stitched.tif')"
   ]
  },
  {
   "cell_type": "markdown",
   "metadata": {},
   "source": [
    "It is also possible to specify the regions of layer to be saved when it is stitched."
   ]
  },
  {
   "cell_type": "code",
   "execution_count": null,
   "metadata": {
    "collapsed": false
   },
   "outputs": [],
   "source": [
    "layer_extent = tiled_raster_layer.layer_metadata.layout_definition.extent\n",
    "\n",
    "# Only a portion of the stitched layer needs to be saved, so we will create a sub Extent to crop to.\n",
    "sub_exent = gps.Extent(xmin=layer_extent.xmin + 10,\n",
    "                       ymin=layer_extent.ymin + 10,\n",
    "                       xmax=layer_extent.xmax - 10,\n",
    "                       ymax=layer_extent.ymax - 10)\n",
    "\n",
    "tiled_raster_layer.save_stitched(path='/tmp/cropped-stitched.tif', crop_bounds=sub_exent)"
   ]
  },
  {
   "cell_type": "code",
   "execution_count": null,
   "metadata": {
    "collapsed": false
   },
   "outputs": [],
   "source": [
    "# In addition to the sub Extent, one can also choose how many cols and rows will be in the saved in the GeoTiff.\n",
    "tiled_raster_layer.save_stitched(path='/tmp/cropped-stitched-2.tif',\n",
    "                                 crop_bounds=sub_exent,\n",
    "                                 crop_dimensions=(1000, 1000))"
   ]
  },
  {
   "cell_type": "markdown",
   "metadata": {},
   "source": [
    "#### Tiling Data to a Layout\n",
    "\n",
    "This is similar to `RasterLayer`'s `tile_to_layout` method, except for one important detail. If performing a `tile_to_layout` on a `TiledRasterLayer` that contains a `zoom_level`, that `zoom_level` could be lost or changed depending on the `layout` and/or `target_crs` chosen. Thus, it is important to keep that in mind in retiling a `TiledRasterLayer`."
   ]
  },
  {
   "cell_type": "code",
   "execution_count": null,
   "metadata": {
    "collapsed": false
   },
   "outputs": [],
   "source": [
    "# Original zoom_level of the source TiledRasterLayer\n",
    "tiled_raster_layer.zoom_level"
   ]
  },
  {
   "cell_type": "code",
   "execution_count": null,
   "metadata": {
    "collapsed": false
   },
   "outputs": [],
   "source": [
    "# zoom_level will be lost in the resulting TiledRasterlayer\n",
    "tiled_raster_layer.tile_to_layout(layout=gps.LocalLayout())"
   ]
  },
  {
   "cell_type": "code",
   "execution_count": null,
   "metadata": {
    "collapsed": false
   },
   "outputs": [],
   "source": [
    "# zoom_level will be changed in the resulting TiledRasterLayer\n",
    "tiled_raster_layer.tile_to_layout(layout=gps.GlobalLayout(), target_crs=3857)"
   ]
  },
  {
   "cell_type": "code",
   "execution_count": null,
   "metadata": {
    "collapsed": false
   },
   "outputs": [],
   "source": [
    "# zoom_level will reamin the same in the resulting TiledRasterLayer\n",
    "tiled_raster_layer.tile_to_layout(layout=gps.GlobalLayout(zoom=11))"
   ]
  },
  {
   "cell_type": "markdown",
   "metadata": {},
   "source": [
    "## General Methods\n",
    "\n",
    "There exist methods that are found in both `RasterLayer` and `TiledRasterLayer`. These methods tend to perform more general analysis/tasks, thus making them suitable for both classes. This next section will go over these methods.\n",
    "\n",
    "**Note**: In the following examples, both `RasterLayer`s and `TiledRasterLayer`s will be used. However, they can easily be subsituted with the other class."
   ]
  },
  {
   "cell_type": "markdown",
   "metadata": {},
   "source": [
    "### Selecting a SubSection of Bands\n",
    "\n",
    "To select certain bands to work with, the `bands` method will take either a single or collection of band indices and will return the subset as a new `RasterLayer` or `TiledRasterLayer`.\n",
    "\n",
    "**Note**: There could high performance costs if operations are performed between two sub-bands of a large dataset. Thus, if you're working with a large amount of data, then it is recommended to do band selection before reading them in."
   ]
  },
  {
   "cell_type": "code",
   "execution_count": null,
   "metadata": {
    "collapsed": false
   },
   "outputs": [],
   "source": [
    "# Selecting the second band from the layer\n",
    "multiband_raster_layer.bands(1)"
   ]
  },
  {
   "cell_type": "code",
   "execution_count": null,
   "metadata": {
    "collapsed": false
   },
   "outputs": [],
   "source": [
    "# Selecting the first and second bands from the layer\n",
    "multiband_raster_layer.bands([0, 1])"
   ]
  },
  {
   "cell_type": "markdown",
   "metadata": {},
   "source": [
    "### Converting the Data Type of the Rasters' Cells\n",
    "\n",
    "The `convert_data_type` method will convert the types of the cells within the rasters of the layer to a new data type. The `noData` value can also be set during this conversion, and if it's not set, then there will be no `noData` value for the resulting rasters."
   ]
  },
  {
   "cell_type": "code",
   "execution_count": null,
   "metadata": {
    "collapsed": false
   },
   "outputs": [],
   "source": [
    "# The data type of the cells before converting\n",
    "metadata.cell_type"
   ]
  },
  {
   "cell_type": "code",
   "execution_count": null,
   "metadata": {
    "collapsed": false
   },
   "outputs": [],
   "source": [
    "# Changing the cell type to int8 with a noData value of -100.\n",
    "raster_layer.convert_data_type(new_type=gps.CellType.INT8, no_data_value=-100).collect_metadata().cell_type"
   ]
  },
  {
   "cell_type": "code",
   "execution_count": null,
   "metadata": {
    "collapsed": false
   },
   "outputs": [],
   "source": [
    "# Changing the cell type to int32 with no noData value.\n",
    "raster_layer.convert_data_type(new_type=gps.CellType.INT32).collect_metadata().cell_type"
   ]
  },
  {
   "cell_type": "markdown",
   "metadata": {},
   "source": [
    "### Reclassify Cell Values\n",
    "\n",
    "`reclassify` changes the cell values based on the `value_map` and `classification_strategy` given. In addition to these two parameters, the `data_type` of the cells also needs to be given. This is either `int` or `float`."
   ]
  },
  {
   "cell_type": "code",
   "execution_count": null,
   "metadata": {
    "collapsed": false
   },
   "outputs": [],
   "source": [
    "# Values of the first tile before being reclassified\n",
    "multiband_raster_layer.to_numpy_rdd().first()[1]"
   ]
  },
  {
   "cell_type": "code",
   "execution_count": null,
   "metadata": {
    "collapsed": false
   },
   "outputs": [],
   "source": [
    "# Change all values greater than or equal to 1 to 10\n",
    "reclassified = multiband_raster_layer.reclassify(value_map={1: 10},\n",
    "                                                 data_type=int,\n",
    "                                                 classification_strategy=gps.ClassificationStrategy.GREATER_THAN_OR_EQUAL_TO)\n",
    "reclassified.to_numpy_rdd().first()[1]"
   ]
  },
  {
   "cell_type": "markdown",
   "metadata": {},
   "source": [
    "### Mapping Over the Cells\n",
    "\n",
    "It is possible to work with the cells within a layer directly via the `map_cells` method. This method takes a function that expects a numpy array and a noData value as parameters, and returns a new numpy array. Thus, the function given would have the following type signature:\n",
    "\n",
    "```python\n",
    "def input_function(numpy_array: np.ndarray, no_data_value=None) -> np.ndarray\n",
    "```\n",
    "\n",
    "The given function is then applied to each `Tile` in the layer.\n",
    "\n",
    "**Note**: In order for this method to operate, the internal `RDD` first needs to be deserialized from Scala to Python and then serialized from Python back to Scala. Because of this, it is recommended to chain together all functions to avoid unnecessary serialization overhead."
   ]
  },
  {
   "cell_type": "code",
   "execution_count": null,
   "metadata": {
    "collapsed": false,
    "scrolled": true
   },
   "outputs": [],
   "source": [
    "def add_one(cells, _):\n",
    "    return cells + 1\n",
    "\n",
    "# Mapping with a single funciton\n",
    "raster_layer.map_cells(add_one)"
   ]
  },
  {
   "cell_type": "code",
   "execution_count": null,
   "metadata": {
    "collapsed": false
   },
   "outputs": [],
   "source": [
    "def divide_two(cells, _):\n",
    "    return (add_one(cells) / 2)\n",
    "\n",
    "# Chaning together two functions to be mapped\n",
    "raster_layer.map_cells(divide_two)"
   ]
  },
  {
   "cell_type": "markdown",
   "metadata": {},
   "source": [
    "### Mapping Over Tiles\n",
    "\n",
    "Like `map_cells`, `map_tiles` maps a given function over all of the `Tile`s within the layer. It takes a function that expects a `Tile` and returns a `Tile`. Therefore, the input function's type signature would be this:\n",
    "\n",
    "```python\n",
    "def input_function(tile: Tile) -> Tile\n",
    "```\n",
    "\n",
    "**Note**: In order for this method to operate, the internal `RDD` first needs to be deserialized from Scala to Python and then serialized from Python back to Scala. Because of this, it is recommended to chain together all functions to avoid unnecessary serialization overhead."
   ]
  },
  {
   "cell_type": "code",
   "execution_count": null,
   "metadata": {
    "collapsed": false
   },
   "outputs": [],
   "source": [
    "def minus_two(tile):\n",
    "    return gps.Tile.from_numpy_array(tile.cells - 2, no_data_value=tile.no_data_value)\n",
    "\n",
    "raster_layer.map_tiles(minus_two)"
   ]
  },
  {
   "cell_type": "markdown",
   "metadata": {},
   "source": [
    "### Calculating the Histogram for the Layer\n",
    "\n",
    "It is possible to calculate the histogram of a layer either by using the `get_histogram` or the `get_class_histogram` method. Both of these methods produce a `Histogram`, however, the way the data is represented within the resulting histogram differs depending on the method used. `get_histogram` will produce a histogram whose values are `float`s. Whereas `get_class_histogram` returns a histogram whose values are `int`s.\n",
    "\n",
    "For more informaiton on the `Histogram` class, please see the `Histogram` [guide]."
   ]
  },
  {
   "cell_type": "code",
   "execution_count": null,
   "metadata": {
    "collapsed": false,
    "scrolled": true
   },
   "outputs": [],
   "source": [
    "# Returns a Histogram whose underlying values are floats\n",
    "tiled_raster_layer.get_histogram()"
   ]
  },
  {
   "cell_type": "code",
   "execution_count": null,
   "metadata": {
    "collapsed": false
   },
   "outputs": [],
   "source": [
    "# Returns a Histogram whose underlying values are ints\n",
    "tiled_raster_layer.get_class_histogram()"
   ]
  },
  {
   "cell_type": "markdown",
   "metadata": {},
   "source": [
    "### Finding the Quantile Breaks for the Layer\n",
    "\n",
    "If you wish to find the quantile breaks for a layer without a `Histogram`, then you can use the `get_quantile_breaks` method. "
   ]
  },
  {
   "cell_type": "code",
   "execution_count": null,
   "metadata": {
    "collapsed": false
   },
   "outputs": [],
   "source": [
    "tiled_raster_layer.get_quantile_breaks(num_breaks=3)"
   ]
  },
  {
   "cell_type": "markdown",
   "metadata": {},
   "source": [
    "#### Quantile Breaks for Exact Ints\n",
    "\n",
    "There is another version of `get_quantile_breaks` called `get_quantile_breaks_exact_int` that will count exact integer values. However, if there are too many values within the layer, then memory errors could occur."
   ]
  },
  {
   "cell_type": "code",
   "execution_count": null,
   "metadata": {
    "collapsed": false
   },
   "outputs": [],
   "source": [
    "tiled_raster_layer.get_quantile_breaks_exact_int(num_breaks=3)"
   ]
  },
  {
   "cell_type": "markdown",
   "metadata": {},
   "source": [
    "#### Finding the Min and Max Values of a Layer\n",
    "\n",
    "The `get_min_max` method will find the min and max value for the layer. The result will always be `(float, float)` regardless of the data type of the cells."
   ]
  },
  {
   "cell_type": "code",
   "execution_count": null,
   "metadata": {
    "collapsed": false
   },
   "outputs": [],
   "source": [
    "tiled_raster_layer.get_min_max()"
   ]
  },
  {
   "cell_type": "markdown",
   "metadata": {},
   "source": [
    "## RDD Methods\n",
    "\n",
    "As mentioned in the section on `TiledRasterLayer`'s [repartition method](#repartitioning), `TiledRasterLayer` has methods to work with its internal `RDD`. This holds true for `RasterLayer` as well.\n",
    "\n",
    "The following is a list of `RDD` with examples that are supported by both classes."
   ]
  },
  {
   "cell_type": "markdown",
   "metadata": {},
   "source": [
    "### Cache"
   ]
  },
  {
   "cell_type": "code",
   "execution_count": null,
   "metadata": {
    "collapsed": false
   },
   "outputs": [],
   "source": [
    "raster_layer.cache()"
   ]
  },
  {
   "cell_type": "markdown",
   "metadata": {},
   "source": [
    "### Persist"
   ]
  },
  {
   "cell_type": "code",
   "execution_count": null,
   "metadata": {
    "collapsed": false
   },
   "outputs": [],
   "source": [
    "# If no level is given, then MEMORY_ONLY will be used\n",
    "tiled_raster_layer.persist()"
   ]
  },
  {
   "cell_type": "markdown",
   "metadata": {},
   "source": [
    "### Unpersist"
   ]
  },
  {
   "cell_type": "code",
   "execution_count": null,
   "metadata": {
    "collapsed": false
   },
   "outputs": [],
   "source": [
    "tiled_raster_layer.unpersist()"
   ]
  },
  {
   "cell_type": "markdown",
   "metadata": {},
   "source": [
    "### getNumberOfPartitions"
   ]
  },
  {
   "cell_type": "code",
   "execution_count": null,
   "metadata": {
    "collapsed": false
   },
   "outputs": [],
   "source": [
    "raster_layer.getNumPartitions()"
   ]
  },
  {
   "cell_type": "markdown",
   "metadata": {},
   "source": [
    "### Count"
   ]
  },
  {
   "cell_type": "code",
   "execution_count": null,
   "metadata": {
    "collapsed": false
   },
   "outputs": [],
   "source": [
    "raster_layer.count()"
   ]
  }
 ],
 "metadata": {
  "kernelspec": {
   "display_name": "Python 3",
   "language": "python",
   "name": "python3"
  },
  "language_info": {
   "codemirror_mode": {
    "name": "ipython",
    "version": 3
   },
   "file_extension": ".py",
   "mimetype": "text/x-python",
   "name": "python",
   "nbconvert_exporter": "python",
   "pygments_lexer": "ipython3",
   "version": "3.5.1+"
  }
 },
 "nbformat": 4,
 "nbformat_minor": 2
}
