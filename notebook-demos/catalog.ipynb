{
 "cells": [
  {
   "cell_type": "code",
   "execution_count": null,
   "metadata": {
    "collapsed": false
   },
   "outputs": [],
   "source": [
    "import datetime\n",
    "import geopyspark as gps\n",
    "import numpy as np\n",
    "\n",
    "from pyspark import SparkContext\n",
    "from shapely.geometry import MultiPolygon, box"
   ]
  },
  {
   "cell_type": "code",
   "execution_count": null,
   "metadata": {
    "collapsed": false
   },
   "outputs": [],
   "source": [
    "!curl -o /tmp/cropped.tif https://s3.amazonaws.com/geopyspark-test/example-files/cropped.tif"
   ]
  },
  {
   "cell_type": "code",
   "execution_count": null,
   "metadata": {
    "collapsed": true
   },
   "outputs": [],
   "source": [
    "conf = gps.geopyspark_conf(master=\"local[*]\", appName=\"layers\")\n",
    "pysc = SparkContext(conf=conf)"
   ]
  },
  {
   "cell_type": "code",
   "execution_count": null,
   "metadata": {
    "collapsed": false
   },
   "outputs": [],
   "source": [
    "# Setting up the Spatial Data to be used in this example\n",
    "\n",
    "spatial_raster_layer = gps.geotiff.get(layer_type=gps.LayerType.SPATIAL, uri=\"/tmp/cropped.tif\")\n",
    "spatial_tiled_layer = spatial_raster_layer.tile_to_layout(layout=gps.GlobalLayout(), target_crs=3857)"
   ]
  },
  {
   "cell_type": "code",
   "execution_count": null,
   "metadata": {
    "collapsed": false
   },
   "outputs": [],
   "source": [
    "# Setting up the Spatial-Temporal Data to be used in this example\n",
    "\n",
    "def make_raster(x, y, v, cols=4, rows=4, crs=4326):\n",
    "    cells = np.zeros((1, rows, cols), dtype='float32')\n",
    "    cells.fill(v)\n",
    "    # extent of a single cell is 1\n",
    "    extent = gps.TemporalProjectedExtent(extent = gps.Extent(x, y, x + cols, y + rows),\n",
    "                                         epsg=crs,\n",
    "                                         instant=datetime.datetime.now())\n",
    "    \n",
    "    return (extent, gps.Tile.from_numpy_array(cells))\n",
    "            \n",
    "layer = [\n",
    "    make_raster(0, 0, v=1),\n",
    "    make_raster(3, 2, v=2),\n",
    "    make_raster(6, 0, v=3)\n",
    "]\n",
    "  \n",
    "rdd = pysc.parallelize(layer)\n",
    "space_time_raster_layer = gps.RasterLayer.from_numpy_rdd(gps.LayerType.SPACETIME, rdd)\n",
    "space_time_tiled_layer = space_time_raster_layer.tile_to_layout(layout=gps.GlobalLayout(tile_size=5))\n",
    "space_time_pyramid = space_time_tiled_layer.pyramid()"
   ]
  },
  {
   "cell_type": "markdown",
   "metadata": {},
   "source": [
    "# Catalog\n",
    "\n",
    "The `catalog` module allows for users to retrieve information, query, and write to/from GeoTrellis layers.\n",
    "\n",
    "## What is a Catalog?\n",
    "\n",
    "A catalog is a directory where saved layers and their attributes are organized and stored in a certain manner. Within a catalog, there can exist multiple layers from different data sets. Each of these layers, in turn, are their own directories which contain two folders: one where the data is stored and the other for the metadata. The data for each layer is broken up into zoom levels and each level has its own folder within the data folder of the layer. As for the metadata, it is also broken up by zoom level and is stored as `json` files within the metadata folder.\n",
    "\n",
    "Here's an example directory structure of a catalog:\n",
    "\n",
    "```\n",
    "layer_catalog/\n",
    "  layer_a/\n",
    "    metadata_for_layer_a/\n",
    "      metadata_layer_a_zoom_0.json\n",
    "      ....\n",
    "    data_for_layer_a/\n",
    "      0/\n",
    "        data\n",
    "        ...\n",
    "      1/\n",
    "        data\n",
    "        ...\n",
    "      ...\n",
    "  layer_b/\n",
    "  ...\n",
    "```"
   ]
  },
  {
   "cell_type": "markdown",
   "metadata": {},
   "source": [
    "## Accessing Data\n",
    "\n",
    "GeoPySpark supports a number of different backends to save and read information from. These are the currently supported backends:\n",
    "\n",
    "* LocalFileSystem\n",
    "* HDFS\n",
    "* S3\n",
    "* Cassandra\n",
    "* HBase\n",
    "* Accumulo\n",
    "\n",
    "Each of these needs to be accessed via the `URI` for the given system. Here are\n",
    "example `URI`s for each:\n",
    "\n",
    "\n",
    " - **Local Filesystem**: file://my_folder/my_catalog/\n",
    " - **HDFS**: hdfs://my_folder/my_catalog/\n",
    " - **S3**: s3://my_bucket/my_catalog/\n",
    " - **Cassandra**: cassandra://[user:password@]zookeeper[:port][/keyspace][?attributes=table1[&layers=table2]]\n",
    " - **HBase**: hbase://zookeeper[:port][?master=host][?attributes=table1[&layers=table2]]\n",
    " - **Accumulo**: accumulo://[user[:password]@]zookeeper/instance-name[?attributes=table1[&layers=table2]]\n",
    " \n",
    "It is important to note that neither HBase nor Accumulo have native support for\n",
    "`URI`s. Thus, GeoPySpark uses its own pattern for these two systems.\n",
    "\n",
    "### A Note on Formatting Tiles\n",
    "\n",
    "A small, but important, note needs to be made about how tiles that are saved and/or read in are formatted in GeoPySpark. All tiles will be treated as a `MultibandTile`. Regardless if they were one to begin with. This was a design choice that was made to simplify both the backend and the API of GeoPySpark."
   ]
  },
  {
   "cell_type": "markdown",
   "metadata": {},
   "source": [
    "## Saving Data to a Backend\n",
    "\n",
    "The `write` function will save a given `TiledRasterLayer` to a specified backend. If the catalog does not exist when calling this function, then it will be created along with the saved layer.\n",
    "\n",
    "**Note**: It is not possible to save a layer to a catalog if the layer name and zoom already exist. If you wish to overwrite an existing, saved layer then it must be deleted before writing the new one.\n",
    "\n",
    "**Note**: Saving a `TiledRasterLayer` that does not have a `zoom_level` will save the layer to a zoom of 0. Thus, when it is read back out from the catalog, the resulting `TiledRasterLayer` will have a `zoom_level` of 0."
   ]
  },
  {
   "cell_type": "markdown",
   "metadata": {},
   "source": [
    "### Saving a Spatial Layer\n",
    "\n",
    "Saving a spatial layer is a straight forward task. All that needs to be supplied is a `URI`, the name of the layer, and the layer to be saved."
   ]
  },
  {
   "cell_type": "code",
   "execution_count": null,
   "metadata": {
    "collapsed": false
   },
   "outputs": [],
   "source": [
    "# The zoom level which will be saved\n",
    "spatial_tiled_layer.zoom_level"
   ]
  },
  {
   "cell_type": "code",
   "execution_count": null,
   "metadata": {
    "collapsed": false
   },
   "outputs": [],
   "source": [
    "# This will create a catalog called, \"spatial-catalog\" in the /tmp directory.\n",
    "# Within it, a layer named, \"spatial-layer\" will be saved.\n",
    "gps.write(uri='file:///tmp/spatial-catalog', layer_name='spatial-layer', tiled_raster_layer=spatial_tiled_layer)"
   ]
  },
  {
   "cell_type": "markdown",
   "metadata": {},
   "source": [
    "### Saving a Spatial Temporal Layer\n",
    "\n",
    "When saving a spatial-temporal layer, one needs to consider how the records within the catalog will be spaced; which in turn, determines the resolution of index. The `TimeUnit` enum class contains all available units of time that can be used to space apart data in the catalog."
   ]
  },
  {
   "cell_type": "code",
   "execution_count": null,
   "metadata": {
    "collapsed": false,
    "scrolled": false
   },
   "outputs": [],
   "source": [
    "# The zoom level which will be saved\n",
    "space_time_tiled_layer.zoom_level"
   ]
  },
  {
   "cell_type": "code",
   "execution_count": null,
   "metadata": {
    "collapsed": false
   },
   "outputs": [],
   "source": [
    "# This will create a catalog called, \"spacetime-catalog\" in the /tmp directory.\n",
    "# Within it, a layer named, \"spacetime-layer\" will be saved and each indice will be spaced apart by SECONDS\n",
    "gps.write(uri='file:///tmp/spacetime-catalog',\n",
    "          layer_name='spacetime-layer',\n",
    "          tiled_raster_layer=space_time_tiled_layer,\n",
    "          time_unit=gps.TimeUnit.SECONDS)"
   ]
  },
  {
   "cell_type": "markdown",
   "metadata": {},
   "source": [
    "### Saving a Pyramid\n",
    "\n",
    "For those that are unfamiliar with the `Pyramid` class, please see the [Pyramid](visualization.ipynb#Pyramid) of the visualization guide. Otherwise, please continue on.\n",
    "\n",
    "As of right now, there is no way to directly save a `Pyramid`. However, because a `Pyramid` is just a collection of `TiledRasterLayer`s of different zooms, it is possible to iterate through the layers of the `Pyramid` and save one individually."
   ]
  },
  {
   "cell_type": "code",
   "execution_count": null,
   "metadata": {
    "collapsed": false
   },
   "outputs": [],
   "source": [
    "for zoom, layer in space_time_pyramid.levels.items():\n",
    "    # Because we've already written a layer of the same name to the same catalog with a zoom level of 7,\n",
    "    # we will skip writing the level 7 layer.\n",
    "    if zoom != 7:\n",
    "        gps.write(uri='file:///tmp/spacetime-catalog',\n",
    "                  layer_name='spacetime-layer',\n",
    "                  tiled_raster_layer=layer,\n",
    "                  time_unit=gps.TimeUnit.SECONDS)"
   ]
  },
  {
   "cell_type": "markdown",
   "metadata": {},
   "source": [
    "## Reading Metadata From a Saved Layer\n",
    "\n",
    "It is possible to retrieve the `Metadata` for a layer without reading in the whole layer. This is done using the `read_layer_metadata` function. There is no difference between spatial and spatial-temporal layers when using this function."
   ]
  },
  {
   "cell_type": "code",
   "execution_count": null,
   "metadata": {
    "collapsed": false
   },
   "outputs": [],
   "source": [
    "# Metadata from the TiledRasterLayer\n",
    "spatial_tiled_layer.layer_metadata"
   ]
  },
  {
   "cell_type": "code",
   "execution_count": null,
   "metadata": {
    "collapsed": false
   },
   "outputs": [],
   "source": [
    "# Reads the Metadata from the spatial-layer of the spatial-catalog for zoom level 11\n",
    "gps.read_layer_metadata(uri=\"file:///tmp/spatial-catalog\",\n",
    "                        layer_name=\"spatial-layer\",\n",
    "                        layer_zoom=11)"
   ]
  },
  {
   "cell_type": "markdown",
   "metadata": {},
   "source": [
    "## Reading a Tile From a Saved Layer\n",
    "\n",
    "One can read a single tile that has been saved to a layer using the `read_value` function. This will either return a `Tile` or `None` depending on whether or not the specified tile exists."
   ]
  },
  {
   "cell_type": "markdown",
   "metadata": {},
   "source": [
    "### Reading a Tile From a Saved, Spatial Layer"
   ]
  },
  {
   "cell_type": "code",
   "execution_count": null,
   "metadata": {
    "collapsed": false,
    "scrolled": true
   },
   "outputs": [],
   "source": [
    "# The Tile being read will be the smallest key of the layer\n",
    "min_key = spatial_tiled_layer.layer_metadata.bounds.minKey\n",
    "\n",
    "gps.read_value(uri=\"file:///tmp/spatial-catalog\",\n",
    "               layer_name=\"spatial-layer\",\n",
    "               layer_zoom=11,\n",
    "               col=min_key.col,\n",
    "               row=min_key.row)"
   ]
  },
  {
   "cell_type": "markdown",
   "metadata": {},
   "source": [
    "### Reading a Tile From a Saved, Spatial-Temporal Layer"
   ]
  },
  {
   "cell_type": "code",
   "execution_count": null,
   "metadata": {
    "collapsed": false,
    "scrolled": true
   },
   "outputs": [],
   "source": [
    "# The Tile being read will be the largest key of the layer\n",
    "max_key = space_time_tiled_layer.layer_metadata.bounds.maxKey\n",
    "\n",
    "gps.read_value(uri=\"file:///tmp/spacetime-catalog\",\n",
    "               layer_name=\"spacetime-layer\",\n",
    "               layer_zoom=7,\n",
    "               col=max_key.col,\n",
    "               row=max_key.row,\n",
    "               zdt=max_key.instant)"
   ]
  },
  {
   "cell_type": "markdown",
   "metadata": {},
   "source": [
    "## Reading a Layer\n",
    "\n",
    "There are two ways one can read a layer in GeoPySpark: reading the entire layer or just portions of it. The former will be the goal discussed in this section. While all of the layer will be read, the function for doing so is called, `query`. There is no difference between spatial and spatial-temporal layers when using this function.\n",
    "\n",
    "**Note**: What distinguishes between a full and partial read is the parameters given to `query`. If no filters were given, then the whole layer is read."
   ]
  },
  {
   "cell_type": "code",
   "execution_count": null,
   "metadata": {
    "collapsed": false
   },
   "outputs": [],
   "source": [
    "# Returns the entire layer that was at zoom level 11.\n",
    "gps.query(uri=\"file:///tmp/spatial-catalog\",\n",
    "          layer_name=\"spatial-layer\",\n",
    "          layer_zoom=11)"
   ]
  },
  {
   "cell_type": "markdown",
   "metadata": {},
   "source": [
    "## Querying a Layer\n",
    "\n",
    "When only a certain section of the layer is of interest, one can retrieve these areas of the layer through the `query` method. Depending on the type of data being queried, there are a couple of ways to filter what will be returned."
   ]
  },
  {
   "cell_type": "markdown",
   "metadata": {},
   "source": [
    "### Querying a Spatial Layer\n",
    "\n",
    "One can query an area of a spatial layer that covers the region of interest by providing a geometry that represents this region. This area can be represented as: `shapely.geometry` (specifically `Polygon`s and `MultiPolygon`s), the `wkb` representation of the geometry, or an `Extent`.\n",
    "\n",
    "**Note**: It is important that the given geometry is in the same projection as the queried layer. Otherwise, either the wrong area or nothing will be returned."
   ]
  },
  {
   "cell_type": "markdown",
   "metadata": {},
   "source": [
    "#### When the Queried Geometry is in the Same Projection as the Layer\n",
    "\n",
    "By default, the `query` function assumes that the geometry and layer given are in the same projection."
   ]
  },
  {
   "cell_type": "code",
   "execution_count": null,
   "metadata": {
    "collapsed": false
   },
   "outputs": [],
   "source": [
    "layer_extent = spatial_tiled_layer.layer_metadata.extent\n",
    "\n",
    "# Creates a Polygon from the cropped Extent of the Layer\n",
    "poly = box(layer_extent.xmin+100, layer_extent.ymin+100, layer_extent.xmax-100, layer_extent.ymax-100)"
   ]
  },
  {
   "cell_type": "code",
   "execution_count": null,
   "metadata": {
    "collapsed": false,
    "scrolled": true
   },
   "outputs": [],
   "source": [
    "# Returns the region of the layer that was intersected by the Polygon at zoom level 11.\n",
    "gps.query(uri=\"file:///tmp/spatial-catalog\",\n",
    "          layer_name=\"spatial-layer\",\n",
    "          layer_zoom=11,\n",
    "          query_geom=poly)"
   ]
  },
  {
   "cell_type": "markdown",
   "metadata": {},
   "source": [
    "#### When the Queried Geometry is in a Different Projection than the Layer\n",
    "\n",
    "As stated above, it is important that both the geometry and layer are in the same projection. If the two are in different CRSs, then this can be resolved by setting the `proj_query` parameter to whatever projection the geometry is in."
   ]
  },
  {
   "cell_type": "code",
   "execution_count": null,
   "metadata": {
    "collapsed": false,
    "scrolled": true
   },
   "outputs": [],
   "source": [
    "# The queried Extent is in a different projection than the base layer\n",
    "metadata = spatial_tiled_layer.tile_to_layout(layout=gps.GlobalLayout(), target_crs=4326).layer_metadata\n",
    "metadata.extent, spatial_tiled_layer.layer_metadata.extent"
   ]
  },
  {
   "cell_type": "code",
   "execution_count": null,
   "metadata": {
    "collapsed": false,
    "scrolled": true
   },
   "outputs": [],
   "source": [
    "# Queries the area of the Extent and returns any intersections\n",
    "querried_spatial_layer = gps.query(uri=\"file:///tmp/spatial-catalog\",\n",
    "                                   layer_name=\"spatial-layer\",\n",
    "                                   layer_zoom=11,\n",
    "                                   query_geom=metadata.extent,\n",
    "                                   query_proj=4326)"
   ]
  },
  {
   "cell_type": "code",
   "execution_count": null,
   "metadata": {
    "collapsed": false
   },
   "outputs": [],
   "source": [
    "# Because we queried the whole Extent of the layer, we should have gotten back the whole thing.\n",
    "querried_extent = querried_spatial_layer.layer_metadata.layout_definition.extent\n",
    "base_extent = spatial_tiled_layer.layer_metadata.layout_definition.extent\n",
    "\n",
    "querried_extent == base_extent"
   ]
  },
  {
   "cell_type": "markdown",
   "metadata": {},
   "source": [
    "### Querying a Spatial-Temporal Layer\n",
    "\n",
    "In addition to being able to query a geometry, spatial-temporal data can also be filtered by time as well."
   ]
  },
  {
   "cell_type": "markdown",
   "metadata": {},
   "source": [
    "#### Querying by Time"
   ]
  },
  {
   "cell_type": "code",
   "execution_count": null,
   "metadata": {
    "collapsed": false
   },
   "outputs": [],
   "source": [
    "min_key = space_time_tiled_layer.layer_metadata.bounds.minKey\n",
    "\n",
    "# Returns a TiledRasterLayer whose keys intersect the given time interval.\n",
    "# In this case, the entire layer will be read.\n",
    "gps.query(uri=\"file:///tmp/spacetime-catalog\",\n",
    "          layer_name=\"spacetime-layer\",\n",
    "          layer_zoom=7,\n",
    "          time_intervals=[min_key.instant, max_key.instant])"
   ]
  },
  {
   "cell_type": "code",
   "execution_count": null,
   "metadata": {
    "collapsed": false
   },
   "outputs": [],
   "source": [
    "# It's possible to query a single time interval. By doing so, only Tiles that contain the time given will be\n",
    "# returned.\n",
    "gps.query(uri=\"file:///tmp/spacetime-catalog\",\n",
    "          layer_name=\"spacetime-layer\",\n",
    "          layer_zoom=7,\n",
    "          time_intervals=[min_key.instant])"
   ]
  },
  {
   "cell_type": "markdown",
   "metadata": {},
   "source": [
    "#### Querying by Space and Time"
   ]
  },
  {
   "cell_type": "code",
   "execution_count": null,
   "metadata": {
    "collapsed": false
   },
   "outputs": [],
   "source": [
    "# In addition to Polygons, one can also query using MultiPolygons.\n",
    "poly_1 = box(140.0, 60.0, 150.0, 65.0)\n",
    "poly_2 = box(160.0, 70.0, 179.0, 89.0)\n",
    "multi_poly = MultiPolygon(poly_1, poly_2)"
   ]
  },
  {
   "cell_type": "code",
   "execution_count": null,
   "metadata": {
    "collapsed": false
   },
   "outputs": [],
   "source": [
    "# Returns a TiledRasterLayer that contains the tiles which intersect the given polygons and are within the\n",
    "# specified time interval.\n",
    "gps.query(uri=\"file:///tmp/spacetime-catalog\",\n",
    "          layer_name=\"spacetime-layer\",\n",
    "          layer_zoom=7,\n",
    "          query_geom=multi_poly,\n",
    "          time_intervals=[min_key.instant, max_key.instant])"
   ]
  }
 ],
 "metadata": {
  "kernelspec": {
   "display_name": "Python 3",
   "language": "python",
   "name": "python3"
  },
  "language_info": {
   "codemirror_mode": {
    "name": "ipython",
    "version": 3
   },
   "file_extension": ".py",
   "mimetype": "text/x-python",
   "name": "python",
   "nbconvert_exporter": "python",
   "pygments_lexer": "ipython3",
   "version": "3.5.1+"
  }
 },
 "nbformat": 4,
 "nbformat_minor": 2
}
